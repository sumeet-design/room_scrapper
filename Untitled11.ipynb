{
 "cells": [
  {
   "cell_type": "code",
   "execution_count": 3,
   "id": "863d352d",
   "metadata": {},
   "outputs": [
    {
     "name": "stdout",
     "output_type": "stream",
     "text": [
      "Collecting selenium==4.16.0\n",
      "  Downloading selenium-4.16.0-py3-none-any.whl (10.0 MB)\n",
      "     ---------------------------------------- 10.0/10.0 MB 3.6 MB/s eta 0:00:00\n",
      "Requirement already satisfied: certifi>=2021.10.8 in c:\\users\\91738\\appdata\\local\\programs\\python\\python38\\lib\\site-packages (from selenium==4.16.0) (2023.5.7)\n",
      "Requirement already satisfied: trio-websocket~=0.9 in c:\\users\\91738\\appdata\\local\\programs\\python\\python38\\lib\\site-packages (from selenium==4.16.0) (0.10.3)\n",
      "Requirement already satisfied: trio~=0.17 in c:\\users\\91738\\appdata\\local\\programs\\python\\python38\\lib\\site-packages (from selenium==4.16.0) (0.22.2)\n",
      "Requirement already satisfied: urllib3[socks]<3,>=1.26 in c:\\users\\91738\\appdata\\local\\programs\\python\\python38\\lib\\site-packages (from selenium==4.16.0) (1.26.16)\n",
      "Requirement already satisfied: exceptiongroup>=1.0.0rc9 in c:\\users\\91738\\appdata\\local\\programs\\python\\python38\\lib\\site-packages (from trio~=0.17->selenium==4.16.0) (1.1.2)\n",
      "Requirement already satisfied: cffi>=1.14 in c:\\users\\91738\\appdata\\local\\programs\\python\\python38\\lib\\site-packages (from trio~=0.17->selenium==4.16.0) (1.15.0)\n",
      "Requirement already satisfied: idna in c:\\users\\91738\\appdata\\local\\programs\\python\\python38\\lib\\site-packages (from trio~=0.17->selenium==4.16.0) (3.4)\n",
      "Requirement already satisfied: sniffio in c:\\users\\91738\\appdata\\local\\programs\\python\\python38\\lib\\site-packages (from trio~=0.17->selenium==4.16.0) (1.3.0)\n",
      "Requirement already satisfied: outcome in c:\\users\\91738\\appdata\\local\\programs\\python\\python38\\lib\\site-packages (from trio~=0.17->selenium==4.16.0) (1.2.0)\n",
      "Requirement already satisfied: attrs>=20.1.0 in c:\\users\\91738\\appdata\\local\\programs\\python\\python38\\lib\\site-packages (from trio~=0.17->selenium==4.16.0) (21.4.0)\n",
      "Requirement already satisfied: sortedcontainers in c:\\users\\91738\\appdata\\local\\programs\\python\\python38\\lib\\site-packages (from trio~=0.17->selenium==4.16.0) (2.4.0)\n",
      "Requirement already satisfied: wsproto>=0.14 in c:\\users\\91738\\appdata\\local\\programs\\python\\python38\\lib\\site-packages (from trio-websocket~=0.9->selenium==4.16.0) (1.2.0)\n",
      "Requirement already satisfied: PySocks!=1.5.7,<2.0,>=1.5.6 in c:\\users\\91738\\appdata\\local\\programs\\python\\python38\\lib\\site-packages (from urllib3[socks]<3,>=1.26->selenium==4.16.0) (1.7.1)\n",
      "Requirement already satisfied: pycparser in c:\\users\\91738\\appdata\\local\\programs\\python\\python38\\lib\\site-packages (from cffi>=1.14->trio~=0.17->selenium==4.16.0) (2.21)\n",
      "Requirement already satisfied: h11<1,>=0.9.0 in c:\\users\\91738\\appdata\\local\\programs\\python\\python38\\lib\\site-packages (from wsproto>=0.14->trio-websocket~=0.9->selenium==4.16.0) (0.14.0)\n",
      "Installing collected packages: selenium\n",
      "  Attempting uninstall: selenium\n",
      "    Found existing installation: selenium 4.10.0\n",
      "    Uninstalling selenium-4.10.0:\n",
      "      Successfully uninstalled selenium-4.10.0\n",
      "Successfully installed selenium-4.16.0\n",
      "Note: you may need to restart the kernel to use updated packages.\n"
     ]
    },
    {
     "name": "stderr",
     "output_type": "stream",
     "text": [
      "\n",
      "[notice] A new release of pip is available: 23.0.1 -> 23.3.2\n",
      "[notice] To update, run: python.exe -m pip install --upgrade pip\n"
     ]
    }
   ],
   "source": [
    "pip install selenium==4.16.0"
   ]
  },
  {
   "cell_type": "code",
   "execution_count": 6,
   "id": "c5b19bd3",
   "metadata": {},
   "outputs": [],
   "source": [
    "from selenium import webdriver\n",
    "import time "
   ]
  },
  {
   "cell_type": "code",
   "execution_count": 8,
   "id": "324eba8d",
   "metadata": {},
   "outputs": [],
   "source": [
    "website = \"https://www.indiacode.nic.in/show-data?actid=AC_CEN_3_20_00064_193908_1523352479755&sectionId=29817&sectionno=1&orderno=1\"\n",
    "#path = \"C:/Users/rohit/OneDrive/Desktop/Selenium/chromedriver_win32/chromedriver.exe\"\n",
    "driver = webdriver.Chrome()\n",
    "driver.get(website)\n",
    "time.sleep(4)\n",
    "driver.quit()"
   ]
  },
  {
   "cell_type": "code",
   "execution_count": null,
   "id": "08d015ca",
   "metadata": {},
   "outputs": [],
   "source": [
    "\n"
   ]
  },
  {
   "cell_type": "code",
   "execution_count": null,
   "id": "9cf73a54",
   "metadata": {},
   "outputs": [],
   "source": []
  },
  {
   "cell_type": "code",
   "execution_count": null,
   "id": "75d58cfb",
   "metadata": {},
   "outputs": [],
   "source": []
  }
 ],
 "metadata": {
  "kernelspec": {
   "display_name": "Python 3 (ipykernel)",
   "language": "python",
   "name": "python3"
  },
  "language_info": {
   "codemirror_mode": {
    "name": "ipython",
    "version": 3
   },
   "file_extension": ".py",
   "mimetype": "text/x-python",
   "name": "python",
   "nbconvert_exporter": "python",
   "pygments_lexer": "ipython3",
   "version": "3.8.10"
  }
 },
 "nbformat": 4,
 "nbformat_minor": 5
}
