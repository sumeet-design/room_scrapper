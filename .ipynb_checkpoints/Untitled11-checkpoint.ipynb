{
 "cells": [
  {
   "cell_type": "code",
   "execution_count": 3,
   "id": "863d352d",
   "metadata": {},
   "outputs": [
    {
     "name": "stdout",
     "output_type": "stream",
     "text": [
      "Collecting selenium==4.16.0\n",
      "  Downloading selenium-4.16.0-py3-none-any.whl (10.0 MB)\n",
      "     ---------------------------------------- 10.0/10.0 MB 3.6 MB/s eta 0:00:00\n",
      "Requirement already satisfied: certifi>=2021.10.8 in c:\\users\\91738\\appdata\\local\\programs\\python\\python38\\lib\\site-packages (from selenium==4.16.0) (2023.5.7)\n",
      "Requirement already satisfied: trio-websocket~=0.9 in c:\\users\\91738\\appdata\\local\\programs\\python\\python38\\lib\\site-packages (from selenium==4.16.0) (0.10.3)\n",
      "Requirement already satisfied: trio~=0.17 in c:\\users\\91738\\appdata\\local\\programs\\python\\python38\\lib\\site-packages (from selenium==4.16.0) (0.22.2)\n",
      "Requirement already satisfied: urllib3[socks]<3,>=1.26 in c:\\users\\91738\\appdata\\local\\programs\\python\\python38\\lib\\site-packages (from selenium==4.16.0) (1.26.16)\n",
      "Requirement already satisfied: exceptiongroup>=1.0.0rc9 in c:\\users\\91738\\appdata\\local\\programs\\python\\python38\\lib\\site-packages (from trio~=0.17->selenium==4.16.0) (1.1.2)\n",
      "Requirement already satisfied: cffi>=1.14 in c:\\users\\91738\\appdata\\local\\programs\\python\\python38\\lib\\site-packages (from trio~=0.17->selenium==4.16.0) (1.15.0)\n",
      "Requirement already satisfied: idna in c:\\users\\91738\\appdata\\local\\programs\\python\\python38\\lib\\site-packages (from trio~=0.17->selenium==4.16.0) (3.4)\n",
      "Requirement already satisfied: sniffio in c:\\users\\91738\\appdata\\local\\programs\\python\\python38\\lib\\site-packages (from trio~=0.17->selenium==4.16.0) (1.3.0)\n",
      "Requirement already satisfied: outcome in c:\\users\\91738\\appdata\\local\\programs\\python\\python38\\lib\\site-packages (from trio~=0.17->selenium==4.16.0) (1.2.0)\n",
      "Requirement already satisfied: attrs>=20.1.0 in c:\\users\\91738\\appdata\\local\\programs\\python\\python38\\lib\\site-packages (from trio~=0.17->selenium==4.16.0) (21.4.0)\n",
      "Requirement already satisfied: sortedcontainers in c:\\users\\91738\\appdata\\local\\programs\\python\\python38\\lib\\site-packages (from trio~=0.17->selenium==4.16.0) (2.4.0)\n",
      "Requirement already satisfied: wsproto>=0.14 in c:\\users\\91738\\appdata\\local\\programs\\python\\python38\\lib\\site-packages (from trio-websocket~=0.9->selenium==4.16.0) (1.2.0)\n",
      "Requirement already satisfied: PySocks!=1.5.7,<2.0,>=1.5.6 in c:\\users\\91738\\appdata\\local\\programs\\python\\python38\\lib\\site-packages (from urllib3[socks]<3,>=1.26->selenium==4.16.0) (1.7.1)\n",
      "Requirement already satisfied: pycparser in c:\\users\\91738\\appdata\\local\\programs\\python\\python38\\lib\\site-packages (from cffi>=1.14->trio~=0.17->selenium==4.16.0) (2.21)\n",
      "Requirement already satisfied: h11<1,>=0.9.0 in c:\\users\\91738\\appdata\\local\\programs\\python\\python38\\lib\\site-packages (from wsproto>=0.14->trio-websocket~=0.9->selenium==4.16.0) (0.14.0)\n",
      "Installing collected packages: selenium\n",
      "  Attempting uninstall: selenium\n",
      "    Found existing installation: selenium 4.10.0\n",
      "    Uninstalling selenium-4.10.0:\n",
      "      Successfully uninstalled selenium-4.10.0\n",
      "Successfully installed selenium-4.16.0\n",
      "Note: you may need to restart the kernel to use updated packages.\n"
     ]
    },
    {
     "name": "stderr",
     "output_type": "stream",
     "text": [
      "\n",
      "[notice] A new release of pip is available: 23.0.1 -> 23.3.2\n",
      "[notice] To update, run: python.exe -m pip install --upgrade pip\n"
     ]
    }
   ],
   "source": [
    "pip install selenium==4.16.0"
   ]
  },
  {
   "cell_type": "code",
   "execution_count": 1,
   "id": "c5b19bd3",
   "metadata": {},
   "outputs": [],
   "source": [
    "from selenium import webdriver"
   ]
  },
  {
   "cell_type": "code",
   "execution_count": 2,
   "id": "324eba8d",
   "metadata": {},
   "outputs": [
    {
     "ename": "NoSuchDriverException",
     "evalue": "Message: Unable to obtain chromedriver using Selenium Manager; Message: Unsuccessful command executed: C:\\Users\\91738\\AppData\\Local\\Programs\\Python\\Python38\\lib\\site-packages\\selenium\\webdriver\\common\\windows\\selenium-manager.exe --browser chrome --output json.\nThe chromedriver version cannot be discovered\n; For documentation on this error, please visit: https://www.selenium.dev/documentation/webdriver/troubleshooting/errors/driver_location\n",
     "output_type": "error",
     "traceback": [
      "\u001b[1;31m---------------------------------------------------------------------------\u001b[0m",
      "\u001b[1;31mWebDriverException\u001b[0m                        Traceback (most recent call last)",
      "File \u001b[1;32m~\\AppData\\Local\\Programs\\Python\\Python38\\lib\\site-packages\\selenium\\webdriver\\common\\driver_finder.py:42\u001b[0m, in \u001b[0;36mDriverFinder.get_path\u001b[1;34m(service, options)\u001b[0m\n\u001b[0;32m     41\u001b[0m \u001b[38;5;28;01mtry\u001b[39;00m:\n\u001b[1;32m---> 42\u001b[0m     path \u001b[38;5;241m=\u001b[39m \u001b[43mSeleniumManager\u001b[49m\u001b[43m(\u001b[49m\u001b[43m)\u001b[49m\u001b[38;5;241;43m.\u001b[39;49m\u001b[43mdriver_location\u001b[49m\u001b[43m(\u001b[49m\u001b[43moptions\u001b[49m\u001b[43m)\u001b[49m \u001b[38;5;28;01mif\u001b[39;00m path \u001b[38;5;129;01mis\u001b[39;00m \u001b[38;5;28;01mNone\u001b[39;00m \u001b[38;5;28;01melse\u001b[39;00m path\n\u001b[0;32m     43\u001b[0m \u001b[38;5;28;01mexcept\u001b[39;00m \u001b[38;5;167;01mException\u001b[39;00m \u001b[38;5;28;01mas\u001b[39;00m err:\n",
      "File \u001b[1;32m~\\AppData\\Local\\Programs\\Python\\Python38\\lib\\site-packages\\selenium\\webdriver\\common\\selenium_manager.py:96\u001b[0m, in \u001b[0;36mSeleniumManager.driver_location\u001b[1;34m(self, options)\u001b[0m\n\u001b[0;32m     94\u001b[0m     args\u001b[38;5;241m.\u001b[39mappend(\u001b[38;5;124m\"\u001b[39m\u001b[38;5;124m--debug\u001b[39m\u001b[38;5;124m\"\u001b[39m)\n\u001b[1;32m---> 96\u001b[0m result \u001b[38;5;241m=\u001b[39m \u001b[38;5;28;43mself\u001b[39;49m\u001b[38;5;241;43m.\u001b[39;49m\u001b[43mrun\u001b[49m\u001b[43m(\u001b[49m\u001b[43margs\u001b[49m\u001b[43m)\u001b[49m\n\u001b[0;32m     97\u001b[0m executable \u001b[38;5;241m=\u001b[39m result\u001b[38;5;241m.\u001b[39msplit(\u001b[38;5;124m\"\u001b[39m\u001b[38;5;130;01m\\t\u001b[39;00m\u001b[38;5;124m\"\u001b[39m)[\u001b[38;5;241m-\u001b[39m\u001b[38;5;241m1\u001b[39m]\u001b[38;5;241m.\u001b[39mstrip()\n",
      "File \u001b[1;32m~\\AppData\\Local\\Programs\\Python\\Python38\\lib\\site-packages\\selenium\\webdriver\\common\\selenium_manager.py:121\u001b[0m, in \u001b[0;36mSeleniumManager.run\u001b[1;34m(args)\u001b[0m\n\u001b[0;32m    120\u001b[0m \u001b[38;5;28;01mif\u001b[39;00m completed_proc\u001b[38;5;241m.\u001b[39mreturncode:\n\u001b[1;32m--> 121\u001b[0m     \u001b[38;5;28;01mraise\u001b[39;00m WebDriverException(\u001b[38;5;124mf\u001b[39m\u001b[38;5;124m\"\u001b[39m\u001b[38;5;124mUnsuccessful command executed: \u001b[39m\u001b[38;5;132;01m{\u001b[39;00mcommand\u001b[38;5;132;01m}\u001b[39;00m\u001b[38;5;124m.\u001b[39m\u001b[38;5;130;01m\\n\u001b[39;00m\u001b[38;5;132;01m{\u001b[39;00mresult\u001b[38;5;132;01m}\u001b[39;00m\u001b[38;5;132;01m{\u001b[39;00mstderr\u001b[38;5;132;01m}\u001b[39;00m\u001b[38;5;124m\"\u001b[39m)\n\u001b[0;32m    122\u001b[0m \u001b[38;5;28;01melse\u001b[39;00m:\n",
      "\u001b[1;31mWebDriverException\u001b[0m: Message: Unsuccessful command executed: C:\\Users\\91738\\AppData\\Local\\Programs\\Python\\Python38\\lib\\site-packages\\selenium\\webdriver\\common\\windows\\selenium-manager.exe --browser chrome --output json.\nThe chromedriver version cannot be discovered\n",
      "\nDuring handling of the above exception, another exception occurred:\n",
      "\u001b[1;31mNoSuchDriverException\u001b[0m                     Traceback (most recent call last)",
      "Cell \u001b[1;32mIn [2], line 3\u001b[0m\n\u001b[0;32m      1\u001b[0m website \u001b[38;5;241m=\u001b[39m \u001b[38;5;124m\"\u001b[39m\u001b[38;5;124mhttps://www.indiacode.nic.in/show-data?actid=AC_CEN_3_20_00064_193908_1523352479755&sectionId=29817&sectionno=1&orderno=1\u001b[39m\u001b[38;5;124m\"\u001b[39m\n\u001b[0;32m      2\u001b[0m \u001b[38;5;66;03m#path = \"C:/Users/rohit/OneDrive/Desktop/Selenium/chromedriver_win32/chromedriver.exe\"\u001b[39;00m\n\u001b[1;32m----> 3\u001b[0m driver \u001b[38;5;241m=\u001b[39m \u001b[43mwebdriver\u001b[49m\u001b[38;5;241;43m.\u001b[39;49m\u001b[43mChrome\u001b[49m\u001b[43m(\u001b[49m\u001b[43m)\u001b[49m\n\u001b[0;32m      4\u001b[0m driver\u001b[38;5;241m.\u001b[39mget(website)\n\u001b[0;32m      6\u001b[0m driver\u001b[38;5;241m.\u001b[39mquit()\n",
      "File \u001b[1;32m~\\AppData\\Local\\Programs\\Python\\Python38\\lib\\site-packages\\selenium\\webdriver\\chrome\\webdriver.py:47\u001b[0m, in \u001b[0;36mWebDriver.__init__\u001b[1;34m(self, options, service, keep_alive)\u001b[0m\n\u001b[0;32m     44\u001b[0m \u001b[38;5;28mself\u001b[39m\u001b[38;5;241m.\u001b[39moptions \u001b[38;5;241m=\u001b[39m options \u001b[38;5;28;01mif\u001b[39;00m options \u001b[38;5;28;01melse\u001b[39;00m Options()\n\u001b[0;32m     45\u001b[0m \u001b[38;5;28mself\u001b[39m\u001b[38;5;241m.\u001b[39mkeep_alive \u001b[38;5;241m=\u001b[39m keep_alive\n\u001b[1;32m---> 47\u001b[0m \u001b[38;5;28mself\u001b[39m\u001b[38;5;241m.\u001b[39mservice\u001b[38;5;241m.\u001b[39mpath \u001b[38;5;241m=\u001b[39m \u001b[43mDriverFinder\u001b[49m\u001b[38;5;241;43m.\u001b[39;49m\u001b[43mget_path\u001b[49m\u001b[43m(\u001b[49m\u001b[38;5;28;43mself\u001b[39;49m\u001b[38;5;241;43m.\u001b[39;49m\u001b[43mservice\u001b[49m\u001b[43m,\u001b[49m\u001b[43m \u001b[49m\u001b[38;5;28;43mself\u001b[39;49m\u001b[38;5;241;43m.\u001b[39;49m\u001b[43moptions\u001b[49m\u001b[43m)\u001b[49m\n\u001b[0;32m     49\u001b[0m \u001b[38;5;28msuper\u001b[39m()\u001b[38;5;241m.\u001b[39m\u001b[38;5;21m__init__\u001b[39m(\n\u001b[0;32m     50\u001b[0m     DesiredCapabilities\u001b[38;5;241m.\u001b[39mCHROME[\u001b[38;5;124m\"\u001b[39m\u001b[38;5;124mbrowserName\u001b[39m\u001b[38;5;124m\"\u001b[39m],\n\u001b[0;32m     51\u001b[0m     \u001b[38;5;124m\"\u001b[39m\u001b[38;5;124mgoog\u001b[39m\u001b[38;5;124m\"\u001b[39m,\n\u001b[1;32m   (...)\u001b[0m\n\u001b[0;32m     54\u001b[0m     \u001b[38;5;28mself\u001b[39m\u001b[38;5;241m.\u001b[39mkeep_alive,\n\u001b[0;32m     55\u001b[0m )\n",
      "File \u001b[1;32m~\\AppData\\Local\\Programs\\Python\\Python38\\lib\\site-packages\\selenium\\webdriver\\common\\driver_finder.py:44\u001b[0m, in \u001b[0;36mDriverFinder.get_path\u001b[1;34m(service, options)\u001b[0m\n\u001b[0;32m     42\u001b[0m     path \u001b[38;5;241m=\u001b[39m SeleniumManager()\u001b[38;5;241m.\u001b[39mdriver_location(options) \u001b[38;5;28;01mif\u001b[39;00m path \u001b[38;5;129;01mis\u001b[39;00m \u001b[38;5;28;01mNone\u001b[39;00m \u001b[38;5;28;01melse\u001b[39;00m path\n\u001b[0;32m     43\u001b[0m \u001b[38;5;28;01mexcept\u001b[39;00m \u001b[38;5;167;01mException\u001b[39;00m \u001b[38;5;28;01mas\u001b[39;00m err:\n\u001b[1;32m---> 44\u001b[0m     \u001b[38;5;28;01mraise\u001b[39;00m NoSuchDriverException(\u001b[38;5;124mf\u001b[39m\u001b[38;5;124m\"\u001b[39m\u001b[38;5;124mUnable to obtain \u001b[39m\u001b[38;5;132;01m{\u001b[39;00mservice\u001b[38;5;241m.\u001b[39mpath\u001b[38;5;132;01m}\u001b[39;00m\u001b[38;5;124m using Selenium Manager; \u001b[39m\u001b[38;5;132;01m{\u001b[39;00merr\u001b[38;5;132;01m}\u001b[39;00m\u001b[38;5;124m\"\u001b[39m)\n\u001b[0;32m     46\u001b[0m \u001b[38;5;28;01mif\u001b[39;00m path \u001b[38;5;129;01mis\u001b[39;00m \u001b[38;5;28;01mNone\u001b[39;00m \u001b[38;5;129;01mor\u001b[39;00m \u001b[38;5;129;01mnot\u001b[39;00m Path(path)\u001b[38;5;241m.\u001b[39mis_file():\n\u001b[0;32m     47\u001b[0m     \u001b[38;5;28;01mraise\u001b[39;00m NoSuchDriverException(\u001b[38;5;124mf\u001b[39m\u001b[38;5;124m\"\u001b[39m\u001b[38;5;124mUnable to locate or obtain \u001b[39m\u001b[38;5;132;01m{\u001b[39;00mservice\u001b[38;5;241m.\u001b[39mpath\u001b[38;5;132;01m}\u001b[39;00m\u001b[38;5;124m\"\u001b[39m)\n",
      "\u001b[1;31mNoSuchDriverException\u001b[0m: Message: Unable to obtain chromedriver using Selenium Manager; Message: Unsuccessful command executed: C:\\Users\\91738\\AppData\\Local\\Programs\\Python\\Python38\\lib\\site-packages\\selenium\\webdriver\\common\\windows\\selenium-manager.exe --browser chrome --output json.\nThe chromedriver version cannot be discovered\n; For documentation on this error, please visit: https://www.selenium.dev/documentation/webdriver/troubleshooting/errors/driver_location\n"
     ]
    }
   ],
   "source": [
    "website = \"https://www.indiacode.nic.in/show-data?actid=AC_CEN_3_20_00064_193908_1523352479755&sectionId=29817&sectionno=1&orderno=1\"\n",
    "#path = \"C:/Users/rohit/OneDrive/Desktop/Selenium/chromedriver_win32/chromedriver.exe\"\n",
    "driver = webdriver.Chrome()\n",
    "driver.get(website)\n",
    "\n",
    "driver.quit()"
   ]
  },
  {
   "cell_type": "code",
   "execution_count": null,
   "id": "08d015ca",
   "metadata": {},
   "outputs": [],
   "source": [
    "\n"
   ]
  },
  {
   "cell_type": "code",
   "execution_count": null,
   "id": "9cf73a54",
   "metadata": {},
   "outputs": [],
   "source": []
  },
  {
   "cell_type": "code",
   "execution_count": null,
   "id": "75d58cfb",
   "metadata": {},
   "outputs": [],
   "source": []
  }
 ],
 "metadata": {
  "kernelspec": {
   "display_name": "Python 3 (ipykernel)",
   "language": "python",
   "name": "python3"
  },
  "language_info": {
   "codemirror_mode": {
    "name": "ipython",
    "version": 3
   },
   "file_extension": ".py",
   "mimetype": "text/x-python",
   "name": "python",
   "nbconvert_exporter": "python",
   "pygments_lexer": "ipython3",
   "version": "3.8.10"
  }
 },
 "nbformat": 4,
 "nbformat_minor": 5
}
